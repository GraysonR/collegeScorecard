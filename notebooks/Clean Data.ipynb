{
 "cells": [
  {
   "cell_type": "markdown",
   "metadata": {},
   "source": [
    "# Clean Data\n",
    "\n",
    "## Story\n",
    "Show US average of <b>income, debt, net price</b> for schools over the years. Then, allow for users to see how their schools compare.\n",
    "\n",
    "## Goal\n",
    "* Clean three variables\n",
    "* Find the averages for each\n",
    "* Store data in JSON\n",
    "    * (school_name, income, debt, net_price)\n",
    "    * average will have school_name == 'avg'"
   ]
  },
  {
   "cell_type": "code",
   "execution_count": 70,
   "metadata": {
    "collapsed": false
   },
   "outputs": [],
   "source": [
    "%matplotlib inline\n",
    "\n",
    "import matplotlib.pyplot as plt\n",
    "import sqlite3\n",
    "import pandas as pd\n",
    "import seaborn as sns\n",
    "\n",
    "sns.set_style(\"white\")\n",
    "\n",
    "conn = sqlite3.connect('../data/output/database.sqlite')\n",
    "c = conn.cursor()\n",
    "\n",
    "def execute(sql):\n",
    "    '''Executes a SQL command on the 'c' cursor and returns the results'''\n",
    "    c.execute(sql)\n",
    "    return c.fetchall()\n",
    "\n",
    "def printByYear(data):\n",
    "    '''Given a list of tuples with (year, data), prints the data next to corresponding year'''\n",
    "    for datum in data:\n",
    "        print \"{0}: {1}\".format(datum[0], datum[1])\n",
    "        \n",
    "years = {1996:1.46, 1997:1.43, 1998:1.4, 1999:1.38, 2000:1.33, 2001:1.3, 2002:1.28, 2003:1.25, \n",
    "         2004:1.22, 2005:1.18, 2006:1.14, 2007:1.11, 2008:1.07, 2009:1.07, 2010:1.05, 2011:1.02, 2012:1, 2013:1}\n",
    "\n",
    "def adjustForInflation(value, year):\n",
    "    '''Adjust the dollar value based on year\n",
    "    Source (http://www.bls.gov/data/inflation_calculator.htm)\n",
    "    '''\n",
    "    if value == None:\n",
    "        return\n",
    "    return int(value * years[year])"
   ]
  },
  {
   "cell_type": "code",
   "execution_count": 40,
   "metadata": {
    "collapsed": false
   },
   "outputs": [],
   "source": [
    "query = \"\"\"SELECT INSTNM, YEAR, \n",
    "                TUITIONFEE_IN, TUITIONFEE_OUT,\n",
    "                DEBT_MDN, \n",
    "                mn_earn_wne_p10, md_earn_wne_p10, pct10_earn_wne_p10, pct25_earn_wne_p10, \n",
    "                pct75_earn_wne_p10, pct90_earn_wne_p10\n",
    "            FROM Scorecard\n",
    "            WHERE MAIN='Main campus'\n",
    "              AND PREDDEG = 'Predominantly bachelor''s-degree granting'\n",
    "        \"\"\"\n",
    "rawData = execute(query)\n",
    "\n",
    "query = \"\"\"SELECT INSTNM\n",
    "            FROM Scorecard\n",
    "            WHERE MAIN='Main campus'\n",
    "              AND PREDDEG = 'Predominantly bachelor''s-degree granting'\n",
    "              and CCBASIC NOT LIKE '%Special%'\"\"\"\n",
    "institutions = execute(query)"
   ]
  },
  {
   "cell_type": "markdown",
   "metadata": {},
   "source": [
    "Now that I have the raw data I want to structure it in a JSON like fashion. instnm -> year -> data"
   ]
  },
  {
   "cell_type": "code",
   "execution_count": 75,
   "metadata": {
    "collapsed": false
   },
   "outputs": [],
   "source": [
    "treeStruct = {} # Inflation adjusted JSON structured tree about different institutions\n",
    "\n",
    "# Get main campus, predominantly bachelor's, non-medical schools that had data for 2013\n",
    "for inst in institutions:\n",
    "    treeStruct[inst[0]] = []\n",
    "\n",
    "def setValue(data, key, value, year):\n",
    "    if value and value != 'PrivacySuppressed':\n",
    "        data[key] = adjustForInflation(value, year)\n",
    "    \n",
    "for row in rawData:\n",
    "    instnm = row[0]\n",
    "    year = row[1]\n",
    "    \n",
    "    if instnm in treeStruct:\n",
    "        financialData = {}\n",
    "        \n",
    "        setValue(financialData, 'tuition_in', row[2], year)\n",
    "        setValue(financialData, 'tuition_out', row[3], year)\n",
    "        setValue(financialData, 'debt_mdn', row[4], year)\n",
    "        setValue(financialData, 'mn_earn', row[5], year)\n",
    "        setValue(financialData, 'md_earn', row[6], year)\n",
    "        setValue(financialData, 'md_earn_10', row[7], year)\n",
    "        setValue(financialData, 'md_earn_25', row[8], year)\n",
    "        setValue(financialData, 'md_earn_75', row[9], year)\n",
    "        setValue(financialData, 'md_earn_90', row[10], year)\n",
    "\n",
    "        if len(financialData) != 0:\n",
    "            treeStruct[instnm].append({year: financialData})\n",
    "            \n"
   ]
  },
  {
   "cell_type": "code",
   "execution_count": 76,
   "metadata": {
    "collapsed": false
   },
   "outputs": [
    {
     "data": {
      "text/plain": [
       "[{2005: {'debt_mdn': 9263, 'tuition_in': 37874, 'tuition_out': 37874}},\n",
       " {2006: {'debt_mdn': 9329, 'tuition_in': 38428, 'tuition_out': 38428}},\n",
       " {2007: {'debt_mdn': 9610,\n",
       "   'md_earn': 96570,\n",
       "   'md_earn_10': 24198,\n",
       "   'md_earn_25': 55611,\n",
       "   'md_earn_75': 199467,\n",
       "   'md_earn_90': 277500,\n",
       "   'mn_earn': 164724,\n",
       "   'tuition_in': 38847,\n",
       "   'tuition_out': 38847}},\n",
       " {2008: {'debt_mdn': 6420, 'tuition_in': 38705, 'tuition_out': 38705}},\n",
       " {2009: {'debt_mdn': 6420,\n",
       "   'md_earn': 82176,\n",
       "   'md_earn_10': 20116,\n",
       "   'md_earn_25': 49755,\n",
       "   'md_earn_75': 169167,\n",
       "   'md_earn_90': 257228,\n",
       "   'mn_earn': 128721,\n",
       "   'tuition_in': 39602,\n",
       "   'tuition_out': 39602}},\n",
       " {2010: {'debt_mdn': 6300, 'tuition_in': 40335, 'tuition_out': 40335}},\n",
       " {2011: {'debt_mdn': 6120,\n",
       "   'md_earn': 88944,\n",
       "   'md_earn_10': 25194,\n",
       "   'md_earn_25': 52632,\n",
       "   'md_earn_75': 173502,\n",
       "   'md_earn_90': 255000,\n",
       "   'mn_earn': 133110,\n",
       "   'tuition_in': 40648,\n",
       "   'tuition_out': 40648}},\n",
       " {2012: {'debt_mdn': 6250, 'tuition_in': 39966, 'tuition_out': 39966}},\n",
       " {2013: {'debt_mdn': 7500, 'tuition_in': 42292, 'tuition_out': 42292}}]"
      ]
     },
     "execution_count": 76,
     "metadata": {},
     "output_type": "execute_result"
    }
   ],
   "source": [
    "treeStruct['Harvard University']"
   ]
  },
  {
   "cell_type": "code",
   "execution_count": null,
   "metadata": {
    "collapsed": true
   },
   "outputs": [],
   "source": []
  }
 ],
 "metadata": {
  "kernelspec": {
   "display_name": "Python 2",
   "language": "python",
   "name": "python2"
  },
  "language_info": {
   "codemirror_mode": {
    "name": "ipython",
    "version": 2
   },
   "file_extension": ".py",
   "mimetype": "text/x-python",
   "name": "python",
   "nbconvert_exporter": "python",
   "pygments_lexer": "ipython2",
   "version": "2.7.11"
  }
 },
 "nbformat": 4,
 "nbformat_minor": 0
}
