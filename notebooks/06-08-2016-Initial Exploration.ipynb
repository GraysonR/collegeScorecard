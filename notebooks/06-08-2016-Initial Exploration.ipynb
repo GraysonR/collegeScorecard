{
 "cells": [
  {
   "cell_type": "markdown",
   "metadata": {
    "collapsed": true
   },
   "source": [
    "# Initial Eploration\n",
    "\n",
    "## Goals\n",
    "* Load dataset into sqlite server\n",
    "* Make basic queries against database\n",
    "* Understand basic structure and fields of dataset\n",
    "* Start exploring different aspects of the dataset and determine possible places of interest to explore in further detail"
   ]
  },
  {
   "cell_type": "markdown",
   "metadata": {},
   "source": [
    "## Load Dataset\n",
    "I want to start an sqlite server, load the dataset into an active sqlite server, and be save that functionality into a method to be run in the future."
   ]
  },
  {
   "cell_type": "code",
   "execution_count": 6,
   "metadata": {
    "collapsed": false
   },
   "outputs": [
    {
     "name": "stdout",
     "output_type": "stream",
     "text": [
      "total 8269440\r\n",
      "-rw-r--r--@ 1 graysonricketts  staff      861159 Sep 23  2015 CollegeScorecardDataDictionary-09-12-2015.pdf\r\n",
      "-rw-r--r--@ 1 graysonricketts  staff    32585814 Sep 23  2015 Crosswalk_ZIP.zip\r\n",
      "drwxr-xr-x@ 7 graysonricketts  staff         238 Sep 23  2015 Data_File_Cohort_Map/\r\n",
      "-rw-r--r--@ 1 graysonricketts  staff      467161 Sep 23  2015 FullDataDocumentation.pdf\r\n",
      "-rw-r--r--@ 1 graysonricketts  staff      390848 Sep 23  2015 data_dictionary.yaml\r\n",
      "-rw-r--r--@ 1 graysonricketts  staff  1201238016 Sep 23  2015 database.sqlite\r\n",
      "-rw-r--r--@ 1 graysonricketts  staff        1496 Sep 23  2015 hashes.txt\r\n"
     ]
    }
   ],
   "source": [
    "ls -l ../data/output | grep -v \"M*.csv\""
   ]
  },
  {
   "cell_type": "code",
   "execution_count": 7,
   "metadata": {
    "collapsed": true
   },
   "outputs": [],
   "source": [
    "import sqlite3"
   ]
  },
  {
   "cell_type": "code",
   "execution_count": 46,
   "metadata": {
    "collapsed": false
   },
   "outputs": [],
   "source": [
    "conn = sqlite3.connect('../data/output/database.sqlite')\n",
    "c = conn.cursor()\n",
    "\n",
    "def execute(sql):\n",
    "    '''\n",
    "    Executes a SQL command on the 'c' cursor and returns the results\n",
    "    '''\n",
    "    c.execute(sql)\n",
    "    return c.fetchall()"
   ]
  },
  {
   "cell_type": "markdown",
   "metadata": {},
   "source": [
    "Apparently, Sqlite is a serverless database (pretty cool, didn't know) so all I need to do is give it a file path, then I can start making queries. I created an execute method to save me couple of keystrokes and make it easier if I change the cursor. "
   ]
  },
  {
   "cell_type": "markdown",
   "metadata": {},
   "source": [
    "## Basic queries and exploration"
   ]
  },
  {
   "cell_type": "code",
   "execution_count": 53,
   "metadata": {
    "collapsed": false
   },
   "outputs": [
    {
     "name": "stdout",
     "output_type": "stream",
     "text": [
      "(u'Scorecard',)\n"
     ]
    }
   ],
   "source": [
    "# Print all tables in the database\n",
    "tables = execute(\"SELECT Name FROM sqlite_master WHERE type='table'\")\n",
    "for table in tables:\n",
    "    print table"
   ]
  },
  {
   "cell_type": "markdown",
   "metadata": {},
   "source": [
    "There is one table and it is called Scorecard."
   ]
  },
  {
   "cell_type": "code",
   "execution_count": 52,
   "metadata": {
    "collapsed": false
   },
   "outputs": [
    {
     "name": "stdout",
     "output_type": "stream",
     "text": [
      "Row count: 124699\n"
     ]
    }
   ],
   "source": [
    "# Print the number of rows in the database\n",
    "rowCount = execute(\"SELECT Count(id) RowCount from Scorecard\")\n",
    "print \"Row count:\", rowCount[0][0]"
   ]
  },
  {
   "cell_type": "code",
   "execution_count": 54,
   "metadata": {
    "collapsed": false
   },
   "outputs": [
    {
     "name": "stdout",
     "output_type": "stream",
     "text": [
      "1731\n"
     ]
    }
   ],
   "source": [
    "# Print the number of columns\n",
    "fields = execute(\"PRAGMA table_info(Scorecard)\")\n",
    "print len(fields)"
   ]
  },
  {
   "cell_type": "markdown",
   "metadata": {},
   "source": [
    "There are too many columns to do an analysis of the data compostion from the above query. In order to understand what is included in the dataset I am looking through the FullDataDocumentation.pdf which covers the different categories of data and summarizes what is include in each category. Below is a table of things I found of interest.\n",
    "\n",
    "All the fields in the database are in CollegeScorecardDataDictionary-09-12-2015.pdf along with the field name."
   ]
  },
  {
   "cell_type": "markdown",
   "metadata": {},
   "source": [
    "<table>\n",
    "    <tr>\n",
    "        <th>Category</th>\n",
    "        <th>Field Type</th>\n",
    "        <th>Details</th>\n",
    "    </tr>\n",
    "    \n",
    "    <!-- SCHOOL !-->\n",
    "    <tr>\n",
    "        <td>School</td>\n",
    "    </tr>\n",
    "    <tr>\n",
    "        <td></td>\n",
    "        <td>Name</td>\n",
    "        <td>Name of the school</td>\n",
    "    </tr>\n",
    "    <tr>\n",
    "        <td></td>\n",
    "        <td>Location</td>\n",
    "        <td>Longitude, latitude, city, etc.</td>\n",
    "    </tr>\n",
    "    <tr>\n",
    "        <td></td>\n",
    "        <td>Main campus or branch</td>\n",
    "        <td>1 for main, 0 for branch</td>\n",
    "    </tr>\n",
    "    <tr>\n",
    "        <td></td>\n",
    "        <td>Type</td>\n",
    "        <td>Public, private for-profit, private non-profit</td>\n",
    "    </tr>\n",
    "    <tr>\n",
    "        <td></td>\n",
    "        <td>Revenue</td>\n",
    "        <td>Net tutition, instructional expenses, average faculty salary</td>\n",
    "    </tr>\n",
    "    <tr>\n",
    "        <td></td>\n",
    "        <td>Currently operating</td>\n",
    "        <td>1 for YES, 0 for NO</td>\n",
    "    </tr>\n",
    "    \n",
    "    <!-- Academics !-->\n",
    "    <tr>\n",
    "        <td>Academics</td>\n",
    "    </tr>\n",
    "    <tr>\n",
    "        <td></td>\n",
    "        <td>Programs offered</td>\n",
    "        <td>Field of study ids</td>\n",
    "    </tr>\n",
    "    \n",
    "    <!-- Admission !-->\n",
    "    <tr>\n",
    "        <td>Admission</td>\n",
    "    </tr>\n",
    "    <tr>\n",
    "        <td></td>\n",
    "        <td>Admission rate for <b>Undergraduates</b></td>\n",
    "        <td>Rates for each branch or all branches</td>\n",
    "    </tr>\n",
    "    <tr>\n",
    "        <td></td>\n",
    "        <td>SAT and ACT scores</b></td>\n",
    "        <td></td>\n",
    "    </tr>\n",
    "    \n",
    "    <!-- Costs !-->\n",
    "    <tr>\n",
    "        <td>Costs</td>\n",
    "    </tr>\n",
    "    <tr>\n",
    "        <td></td>\n",
    "        <td><b>LOTS</b></td>\n",
    "        <td>Look at page 6-7 of data documentation</td>\n",
    "    </tr>\n",
    "    \n",
    "    <!-- Student Body !-->\n",
    "    <tr>\n",
    "        <td>Student Body</td>\n",
    "    </tr>\n",
    "    <tr>\n",
    "        <td></td>\n",
    "        <td>Number of degree seekers</td>\n",
    "        <td></td>\n",
    "    </tr>\n",
    "    <tr>\n",
    "        <td></td>\n",
    "        <td>Race statistics</td>\n",
    "        <td>Self-reported on FAFSA</td>\n",
    "    </tr>\n",
    "    <tr>\n",
    "        <td></td>\n",
    "        <td>Undegrads by family income</td>\n",
    "        <td>Percentages broken into categories based on expected family contribution on FAFSA</td>\n",
    "    </tr>\n",
    "    <tr>\n",
    "        <td></td>\n",
    "        <td>Retention rate</td>\n",
    "        <td></td>\n",
    "    </tr>\n",
    "    <tr>\n",
    "        <td></td>\n",
    "        <td>Student body age</td>\n",
    "        <td>Percentage of students who are age 25-64</td>\n",
    "    </tr>\n",
    "    <tr>\n",
    "        <td></td>\n",
    "        <td>Parent education</td>\n",
    "        <td>Percentages of students with parents that have some level of education. Collected from FAFSA.</td>\n",
    "    </tr>\n",
    "    \n",
    "    <!-- Financial Aid !-->\n",
    "    <tr>\n",
    "        <td>Financial Aid</td>\n",
    "    </tr>\n",
    "    <tr>\n",
    "        <td></td>\n",
    "        <td>Cumulative median debt</td>\n",
    "        <td></td>\n",
    "    </tr>\n",
    "    <tr>\n",
    "        <td></td>\n",
    "        <td>Percent receiving Pell Grant</td>\n",
    "        <td>Grant from government that does not need to be repaid</td>\n",
    "    </tr>\n",
    "    <tr>\n",
    "        <td></td>\n",
    "        <td>Percent receiving federal loans</td>\n",
    "        <td></td>\n",
    "    </tr>\n",
    "    \n",
    "    <!-- Completion !-->\n",
    "    <tr>\n",
    "        <td>Completion</td>\n",
    "    </tr>\n",
    "    <tr>\n",
    "        <td></td>\n",
    "        <td>Completion rate</td>\n",
    "        <td>Percent of students graduating within 150% and 200% of the expected time to graduate</td>\n",
    "    </tr>\n",
    "    \n",
    "    <!-- Title IV Students !-->\n",
    "    <tr>\n",
    "        <td>Title IV Students</td>\n",
    "    </tr>\n",
    "    \n",
    "    <!-- Earnings !-->\n",
    "    <tr>\n",
    "        <td>Earnings</td>\n",
    "    </tr>\n",
    "    <tr>\n",
    "        <td></td>\n",
    "        <td>Mean and median income</td>\n",
    "        <td>Available 6 and 10 years after graduation. Data comes from W2 tax forms</td>\n",
    "    </tr>\n",
    "    <tr>\n",
    "        <td></td>\n",
    "        <td>Threshold earnings</td>\n",
    "        <td>Percent of students who are earning more than people age 25-34 with only a college degree. Measure of wether or not the degree was able to financially improve the students outcome had they not gone to college.</td>\n",
    "    </tr>\n",
    "    \n",
    "    <!-- Repayment !-->\n",
    "    <tr>\n",
    "        <td>Repayment</td>\n",
    "    </tr>\n",
    "</table>"
   ]
  },
  {
   "cell_type": "code",
   "execution_count": null,
   "metadata": {
    "collapsed": true
   },
   "outputs": [],
   "source": []
  }
 ],
 "metadata": {
  "kernelspec": {
   "display_name": "Python 2",
   "language": "python",
   "name": "python2"
  },
  "language_info": {
   "codemirror_mode": {
    "name": "ipython",
    "version": 2
   },
   "file_extension": ".py",
   "mimetype": "text/x-python",
   "name": "python",
   "nbconvert_exporter": "python",
   "pygments_lexer": "ipython2",
   "version": "2.7.10"
  }
 },
 "nbformat": 4,
 "nbformat_minor": 0
}
