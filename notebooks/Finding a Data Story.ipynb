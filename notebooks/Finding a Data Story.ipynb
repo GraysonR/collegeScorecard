{
 "cells": [
  {
   "cell_type": "markdown",
   "metadata": {},
   "source": [
    "# Finding data story\n",
    "\n",
    "## Goals\n",
    "* Find a data story\n",
    "* Narrow down fields of dataset to explore"
   ]
  },
  {
   "cell_type": "markdown",
   "metadata": {},
   "source": [
    "## Imports and helper functions"
   ]
  },
  {
   "cell_type": "code",
   "execution_count": 45,
   "metadata": {
    "collapsed": false
   },
   "outputs": [],
   "source": [
    "%matplotlib inline\n",
    "\n",
    "import matplotlib.pyplot as plt\n",
    "import sqlite3\n",
    "import pandas as pd\n",
    "import seaborn as sns\n",
    "\n",
    "sns.set_style(\"white\")\n",
    "\n",
    "conn = sqlite3.connect('../data/output/database.sqlite')\n",
    "c = conn.cursor()\n",
    "\n",
    "def execute(sql):\n",
    "    '''\n",
    "    Executes a SQL command on the 'c' cursor and returns the results\n",
    "    '''\n",
    "    c.execute(sql)\n",
    "    return c.fetchall()\n",
    "\n",
    "def printByYear(data):\n",
    "    '''\n",
    "    Given a list of tuples with (year, data), prints the data next to corresponding year\n",
    "    '''\n",
    "    for datum in data:\n",
    "        print \"{0}: {1}\".format(datum[0], datum[1])"
   ]
  },
  {
   "cell_type": "code",
   "execution_count": 39,
   "metadata": {
    "collapsed": true
   },
   "outputs": [],
   "source": [
    "years = {1996:1.46, 1997:1.43, 1998:1.4, 1999:1.38, 2000:1.33, 2001:1.3, 2002:1.28, 2003:1.25, \n",
    "         2004:1.22, 2005:1.18, 2006:1.14, 2007:1.11, 2008:1.07, 2009:1.07, 2010:1.05, 2011:1.02, 2012:1}\n",
    "def adjustForInflation(value, year):\n",
    "    if value == None:\n",
    "        return\n",
    "    return value * years[year]"
   ]
  },
  {
   "cell_type": "markdown",
   "metadata": {},
   "source": [
    "## Current visualization ideas\n",
    "* Show map and as user searches highlight or unhighlight dots in map\n",
    "    * Good with categorical but not continuous data\n",
    "        * private or public\n",
    "        * bin certain continuous distributions\n",
    "            * student body size\n",
    "* Time series of different schools to show change over time\n",
    "    * Could allow people to pin certain schools\n",
    "    * By default would show the top 5, 10?, 15? schools\n",
    "    * Could show seperation between top and bottom\n",
    "    * Could show mean of the dataset at the same time\n",
    "    \n",
    "* Animated dot plot that shows change over time with animation\n",
    "    * Sort of double encoding that was in the IPO vis from NYTimes\n",
    "    \n",
    "Currently seems like time series is the best option. Start with that and expand.\n",
    "Features to add or explore?:\n",
    "* Money (adjust for inflation)\n",
    "    * Institutional finances\n",
    "        * Net tuition\n",
    "        * Institutional expenses\n",
    "        * Average faculty salary\n",
    "    * Costs for students\n",
    "        * Tuition and fees\n",
    "        * Average net price\n",
    "        * Cumulative median debt\n",
    "        * Percent receiving federal loans\n",
    "* Admissions\n",
    "    * Admission rate\n",
    "    * SAT and ACT\n",
    "* Student outcome\n",
    "    * Completion rate\n",
    "    * Mean and median\n",
    "    * Threshold earnings for private for-profit\n",
    "* Student body demographics\n",
    "    * Breakdown by major\n",
    "    * Ethnicity"
   ]
  },
  {
   "cell_type": "markdown",
   "metadata": {},
   "source": [
    "## Explored Below:\n",
    "* cumulative median debt\n",
    "* net tuition\n",
    "* expenses"
   ]
  },
  {
   "cell_type": "code",
   "execution_count": 2,
   "metadata": {
    "collapsed": false
   },
   "outputs": [],
   "source": [
    "# Median loan debt of those who graduate programs\n",
    "debt = execute(\"\"\"SELECT year, grad_debt_mdn\n",
    "                  FROM Scorecard\n",
    "                  WHERE year%2=0 AND grad_debt_mdn IS NOT NULL\"\"\")"
   ]
  },
  {
   "cell_type": "code",
   "execution_count": 12,
   "metadata": {
    "collapsed": true
   },
   "outputs": [],
   "source": [
    "def graphDistForYears(data, year1, year2):\n",
    "    data1 = pd.DataFrame()\n",
    "    data2 = pd.DataFrame()\n",
    "    \n",
    "    # 1.4 is adjusting for inflation\n",
    "    data1['x'] = [1.4 * row[1] for row in data if row[0]==year1 and (isinstance(row[1], float) or isinstance(row[1], int))]\n",
    "    data2['x'] = [row[1] for row in data if row[0]==year2 and (isinstance(row[1], float) or isinstance(row[1], int))]\n",
    "    \n",
    "    sns.distplot(data1, kde=False)\n",
    "    sns.distplot(data2, kde=False)"
   ]
  },
  {
   "cell_type": "code",
   "execution_count": 13,
   "metadata": {
    "collapsed": false
   },
   "outputs": [
    {
     "name": "stdout",
     "output_type": "stream",
     "text": [
      "Set([1998, 2000, 2002, 2004, 2006, 2008, 2010, 2012])\n"
     ]
    },
    {
     "data": {
      "image/png": "[encoded data removed]",
      "text/plain": [
       "<matplotlib.figure.Figure at 0x11114f310>"
      ]
     },
     "metadata": {},
     "output_type": "display_data"
    }
   ],
   "source": [
    "# Years with meadian student debt\n",
    "from sets import Set\n",
    "years = Set()\n",
    "for row in debt:\n",
    "    years.add(row[0])\n",
    "    \n",
    "print years\n",
    "\n",
    "graphDistForYears(debt, 1998, 2012)"
   ]
  },
  {
   "cell_type": "code",
   "execution_count": 6,
   "metadata": {
    "collapsed": false
   },
   "outputs": [
    {
     "name": "stdout",
     "output_type": "stream",
     "text": [
      "0\n"
     ]
    }
   ],
   "source": [
    "# Graph makes it look like there mgith be anomalies in the data such as negative debt, but \n",
    "# this is just a quirk of the regression and not an actual fact\n",
    "print len([row[1] for row in debt if isinstance(row[1], float) and row[1] < 0])"
   ]
  },
  {
   "cell_type": "code",
   "execution_count": 7,
   "metadata": {
    "collapsed": false
   },
   "outputs": [],
   "source": [
    "# Net tuition revenue per student for a institution\n",
    "tuitionRev = execute(\"\"\"SELECT year, tuitfte, instnm, ugds\n",
    "                  FROM Scorecard\n",
    "                  WHERE tuitfte IS NOT NULL and main='Main campus' and ugds>1000\"\"\")"
   ]
  },
  {
   "cell_type": "code",
   "execution_count": 14,
   "metadata": {
    "collapsed": false
   },
   "outputs": [
    {
     "data": {
      "image/png": "[encoded data removed]",
      "text/plain": [
       "<matplotlib.figure.Figure at 0x111195c90>"
      ]
     },
     "metadata": {},
     "output_type": "display_data"
    }
   ],
   "source": [
    "graphDistForYears(tuitionRev, 1998, 2012)"
   ]
  },
  {
   "cell_type": "code",
   "execution_count": 9,
   "metadata": {
    "collapsed": false
   },
   "outputs": [
    {
     "name": "stdout",
     "output_type": "stream",
     "text": [
      "HARVARD UNIVERSITY -- 68001 -- 3567\n",
      "MERCY COLLEGE-MAIN CAMPUS -- 33041 -- 1616\n",
      "MIDDLEBURY COLLEGE -- 26671 -- 2273\n",
      "WILLIAMS COLLEGE -- 21472 -- 2010\n",
      "SWARTHMORE COLLEGE -- 20942 -- 1390\n",
      "UNIVERSITY OF PENNSYLVANIA -- 20650 -- 11644\n",
      "RHODE ISLAND SCHOOL OF DESIGN -- 19569 -- 1844\n",
      "ALFRED UNIVERSITY -- 17080 -- 1228\n",
      "COLGATE UNIVERSITY -- 15947 -- 2771\n",
      "COLUMBIA UNIVERSITY IN THE CITY OF NEW YORK -- 15883 -- 6401\n"
     ]
    }
   ],
   "source": [
    "top10 = [[0,0,0] for i in range(0, 10)]\n",
    "for inst in [row for row in tuitionRev if row[0]==1998]:\n",
    "    i = 0\n",
    "    done = False\n",
    "    while i < len(top10) and not done:\n",
    "        if (top10[i][1] < inst[1]):\n",
    "            top10[i][0] = inst[2]\n",
    "            top10[i][1] = inst[1]\n",
    "            top10[i][2] = inst[3]\n",
    "            done = True\n",
    "        i += 1\n",
    "            \n",
    "for top in top10:\n",
    "    print \"{0} -- {1} -- {2}\".format(top[0], top[1], top[2])"
   ]
  },
  {
   "cell_type": "markdown",
   "metadata": {},
   "source": [
    "Odd outliers throughout needs to be explored and cleaned more"
   ]
  },
  {
   "cell_type": "code",
   "execution_count": 10,
   "metadata": {
    "collapsed": true
   },
   "outputs": [],
   "source": [
    "expenses = execute(\"\"\"SELECT year, inexpfte\n",
    "                  FROM Scorecard\n",
    "                  WHERE inexpfte IS NOT NULL and main='Main campus' and ugds>1000\"\"\")"
   ]
  },
  {
   "cell_type": "code",
   "execution_count": 15,
   "metadata": {
    "collapsed": false
   },
   "outputs": [
    {
     "data": {
      "image/png": "[encoded data removed]",
      "text/plain": [
       "<matplotlib.figure.Figure at 0x111442350>"
      ]
     },
     "metadata": {},
     "output_type": "display_data"
    }
   ],
   "source": [
    "graphDistForYears(expenses, 1998, 2012)"
   ]
  },
  {
   "cell_type": "code",
   "execution_count": 27,
   "metadata": {
    "collapsed": false
   },
   "outputs": [],
   "source": [
    "purdueData = execute(\"\"\"SELECT year, tuitfte, inexpfte, grad_debt_mdn\n",
    "                        FROM Scorecard\n",
    "                        WHERE instnm='PURDUE UNIVERSITY-MAIN CAMPUS'\"\"\")"
   ]
  },
  {
   "cell_type": "code",
   "execution_count": 28,
   "metadata": {
    "collapsed": false
   },
   "outputs": [
    {
     "data": {
      "text/plain": [
       "[(1996, None, None, None),\n",
       " (1997, None, None, 14434.0),\n",
       " (1998, 5404, 7163, 14375.0),\n",
       " (1999, 5775, 7566, 14038.5),\n",
       " (2000, 5974, 7391, 13625.0),\n",
       " (2001, 6610, 8079, 13818.0),\n",
       " (2002, 6188, 8471, 14330.0),\n",
       " (2003, 7181, 8499, 14500.0),\n",
       " (2004, 7978, 9224, 14500.0)]"
      ]
     },
     "execution_count": 28,
     "metadata": {},
     "output_type": "execute_result"
    }
   ],
   "source": [
    "purdueData[:10]"
   ]
  },
  {
   "cell_type": "code",
   "execution_count": 35,
   "metadata": {
    "collapsed": false
   },
   "outputs": [],
   "source": [
    "def graphPurdueData(index):\n",
    "    df = pd.DataFrame()\n",
    "    df['Dollars'] = [adjustForInflation(row[index], row[0]) for row in purdueData]\n",
    "    df['Year'] = [row[0] for row in purdueData]\n",
    "    graph = sns.regplot('Year', 'Dollars',\n",
    "                            data=df,\n",
    "                            fit_reg=False)"
   ]
  },
  {
   "cell_type": "code",
   "execution_count": 40,
   "metadata": {
    "collapsed": false
   },
   "outputs": [
    {
     "data": {
      "image/png": "[encoded data removed]",
      "text/plain": [
       "<matplotlib.figure.Figure at 0x111943f10>"
      ]
     },
     "metadata": {},
     "output_type": "display_data"
    }
   ],
   "source": [
    "graphPurdueData(1)"
   ]
  },
  {
   "cell_type": "code",
   "execution_count": 41,
   "metadata": {
    "collapsed": false
   },
   "outputs": [
    {
     "data": {
      "image/png": "[encoded data removed]",
      "text/plain": [
       "<matplotlib.figure.Figure at 0x11131a950>"
      ]
     },
     "metadata": {},
     "output_type": "display_data"
    }
   ],
   "source": [
    "graphPurdueData(2)"
   ]
  },
  {
   "cell_type": "code",
   "execution_count": 44,
   "metadata": {
    "collapsed": false
   },
   "outputs": [
    {
     "data": {
      "image/png": "[encoded data removed]",
      "text/plain": [
       "<matplotlib.figure.Figure at 0x111e25050>"
      ]
     },
     "metadata": {},
     "output_type": "display_data"
    }
   ],
   "source": [
    "graphPurdueData(3)"
   ]
  },
  {
   "cell_type": "markdown",
   "metadata": {},
   "source": [
    "Problems noted so far:\n",
    "* lots of None data\n",
    "* not all years recorded\n",
    "* <b>Not inflation adjusted</b>\n",
    "* small schools with outlier data included\n",
    "\n",
    "To clean up:\n",
    "* remove non-main campuses\n",
    "* check and see if names change over time, possibly use inst number instead\n",
    "* adjsut for inflation\n",
    "\n",
    "### Notes so far\n",
    "* Finding general patterns seems hard because of outliers\n",
    "* Think find one or two interesting trends, then allow for individual comparisions/dashboard\n",
    "\n",
    "Perhaps: \n",
    "1. Show general trends/generalized information --> Allow people to choose colleges to add and compare (Max 7)\n",
    "2. Have \"dashboard\" to look at a specific college --> Allow people to compare colleges (Max 3)\n",
    "3. Investigate on my own"
   ]
  },
  {
   "cell_type": "code",
   "execution_count": null,
   "metadata": {
    "collapsed": true
   },
   "outputs": [],
   "source": []
  }
 ],
 "metadata": {
  "kernelspec": {
   "display_name": "Python 2",
   "language": "python",
   "name": "python2"
  },
  "language_info": {
   "codemirror_mode": {
    "name": "ipython",
    "version": 2
   },
   "file_extension": ".py",
   "mimetype": "text/x-python",
   "name": "python",
   "nbconvert_exporter": "python",
   "pygments_lexer": "ipython2",
   "version": "2.7.11"
  }
 },
 "nbformat": 4,
 "nbformat_minor": 0
}
