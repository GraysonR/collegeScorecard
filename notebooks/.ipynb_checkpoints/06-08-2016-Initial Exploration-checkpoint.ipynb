{
 "cells": [
  {
   "cell_type": "markdown",
   "metadata": {
    "collapsed": true
   },
   "source": [
    "# Initial Eploration\n",
    "\n",
    "## Goals\n",
    "* Load dataset into sqlite server\n",
    "* Make basic queries against database\n",
    "* Understand basic structure and fields of dataset\n",
    "* Start exploring different aspects of the dataset and determine possible places of interest to explore in further detail"
   ]
  },
  {
   "cell_type": "markdown",
   "metadata": {},
   "source": [
    "## Imports"
   ]
  },
  {
   "cell_type": "code",
   "execution_count": 156,
   "metadata": {
    "collapsed": true
   },
   "outputs": [],
   "source": [
    "%matplotlib inline\n",
    "\n",
    "import matplotlib.pyplot as plt\n",
    "import sqlite3\n",
    "import pandas as pd\n",
    "import seaborn as sns\n",
    "\n",
    "sns.set_style(\"white\")"
   ]
  },
  {
   "cell_type": "markdown",
   "metadata": {},
   "source": [
    "## Load Dataset\n",
    "I want to start an sqlite server, load the dataset into an active sqlite server, and be save that functionality into a method to be run in the future."
   ]
  },
  {
   "cell_type": "code",
   "execution_count": 79,
   "metadata": {
    "collapsed": false
   },
   "outputs": [
    {
     "name": "stdout",
     "output_type": "stream",
     "text": [
      "total 8269440\r\n",
      "-rw-r--r--@ 1 graysonricketts  staff      861159 Sep 23  2015 CollegeScorecardDataDictionary-09-12-2015.pdf\r\n",
      "-rw-r--r--@ 1 graysonricketts  staff    32585814 Sep 23  2015 Crosswalk_ZIP.zip\r\n",
      "drwxr-xr-x@ 7 graysonricketts  staff         238 Sep 23  2015 Data_File_Cohort_Map/\r\n",
      "-rw-r--r--@ 1 graysonricketts  staff      467161 Sep 23  2015 FullDataDocumentation.pdf\r\n",
      "-rw-r--r--@ 1 graysonricketts  staff      390848 Sep 23  2015 data_dictionary.yaml\r\n",
      "-rw-r--r--@ 1 graysonricketts  staff  1201238016 Sep 23  2015 database.sqlite\r\n",
      "-rw-r--r--@ 1 graysonricketts  staff        1496 Sep 23  2015 hashes.txt\r\n"
     ]
    }
   ],
   "source": [
    "ls -l ../data/output | grep -v \"M*.csv\""
   ]
  },
  {
   "cell_type": "code",
   "execution_count": 57,
   "metadata": {
    "collapsed": false
   },
   "outputs": [],
   "source": [
    "conn = sqlite3.connect('../data/output/database.sqlite')\n",
    "c = conn.cursor()\n",
    "\n",
    "def execute(sql):\n",
    "    '''\n",
    "    Executes a SQL command on the 'c' cursor and returns the results\n",
    "    '''\n",
    "    c.execute(sql)\n",
    "    return c.fetchall()"
   ]
  },
  {
   "cell_type": "markdown",
   "metadata": {},
   "source": [
    "Apparently, Sqlite is a serverless database (pretty cool, didn't know) so all I need to do is give it a file path, then I can start making queries. I created an execute method to save me couple of keystrokes and make it easier if I change the cursor. "
   ]
  },
  {
   "cell_type": "markdown",
   "metadata": {},
   "source": [
    "## Helper methods"
   ]
  },
  {
   "cell_type": "code",
   "execution_count": 157,
   "metadata": {
    "collapsed": true
   },
   "outputs": [],
   "source": [
    "def printByYear(data):\n",
    "    '''\n",
    "    Given a list of tuples with (year, data), prints the data next to corresponding year\n",
    "    '''\n",
    "    for datum in data:\n",
    "        print \"{0}: {1}\".format(datum[0], datum[1])"
   ]
  },
  {
   "cell_type": "markdown",
   "metadata": {},
   "source": [
    "## Basic queries and exploration"
   ]
  },
  {
   "cell_type": "code",
   "execution_count": 58,
   "metadata": {
    "collapsed": false
   },
   "outputs": [
    {
     "name": "stdout",
     "output_type": "stream",
     "text": [
      "(u'Scorecard',)\n"
     ]
    }
   ],
   "source": [
    "# Print all tables in the database\n",
    "tables = execute(\"SELECT Name FROM sqlite_master WHERE type='table'\")\n",
    "for table in tables:\n",
    "    print table"
   ]
  },
  {
   "cell_type": "markdown",
   "metadata": {},
   "source": [
    "There is one table and it is called Scorecard."
   ]
  },
  {
   "cell_type": "code",
   "execution_count": 82,
   "metadata": {
    "collapsed": false
   },
   "outputs": [
    {
     "name": "stdout",
     "output_type": "stream",
     "text": [
      "Row count: 124699\n"
     ]
    }
   ],
   "source": [
    "# Print the number of rows in the database\n",
    "rowCount = execute(\"SELECT Count(id) RowCount from Scorecard\")\n",
    "rowCount = rowCount[0][0]\n",
    "print \"Row count:\", rowCount"
   ]
  },
  {
   "cell_type": "code",
   "execution_count": 158,
   "metadata": {
    "collapsed": false
   },
   "outputs": [
    {
     "name": "stdout",
     "output_type": "stream",
     "text": [
      "1996: 6794\n",
      "1997: 6699\n",
      "1998: 6480\n",
      "1999: 6466\n",
      "2000: 6478\n",
      "2001: 6619\n",
      "2002: 6546\n",
      "2003: 6585\n",
      "2004: 6660\n",
      "2005: 6824\n",
      "2006: 6848\n",
      "2007: 6890\n",
      "2008: 6975\n",
      "2009: 7149\n",
      "2010: 7414\n",
      "2011: 7675\n",
      "2012: 7793\n",
      "2013: 7804\n"
     ]
    }
   ],
   "source": [
    "# Number of intstiutions in dataset per year\n",
    "rowCountByYear = execute(\"\"\"SELECT Year, Count(id)\n",
    "                            FROM Scorecard\n",
    "                            GROUP BY Year\"\"\")\n",
    "printByYear(rowCountByYear)"
   ]
  },
  {
   "cell_type": "code",
   "execution_count": 60,
   "metadata": {
    "collapsed": false
   },
   "outputs": [
    {
     "name": "stdout",
     "output_type": "stream",
     "text": [
      "1731\n"
     ]
    }
   ],
   "source": [
    "# Print the number of columns\n",
    "fields = execute(\"PRAGMA table_info(Scorecard)\")\n",
    "print len(fields)"
   ]
  },
  {
   "cell_type": "markdown",
   "metadata": {},
   "source": [
    "There are too many columns to do an analysis of the data compostion from the above query. In order to understand what is included in the dataset I am looking through the FullDataDocumentation.pdf which covers the different categories of data and summarizes what is include in each category. Below is a table of things I found of interest.\n",
    "\n",
    "All the fields in the database are in CollegeScorecardDataDictionary-09-12-2015.pdf along with the field name."
   ]
  },
  {
   "cell_type": "markdown",
   "metadata": {},
   "source": [
    "<table>\n",
    "    <tr>\n",
    "        <th>Category</th>\n",
    "        <th>Field Type</th>\n",
    "        <th>Details</th>\n",
    "    </tr>\n",
    "    \n",
    "    <!-- SCHOOL !-->\n",
    "    <tr>\n",
    "        <td>School</td>\n",
    "    </tr>\n",
    "    <tr>\n",
    "        <td></td>\n",
    "        <td>Name</td>\n",
    "        <td>Name of the school</td>\n",
    "    </tr>\n",
    "    <tr>\n",
    "        <td></td>\n",
    "        <td>Location</td>\n",
    "        <td>Longitude, latitude, city, etc.</td>\n",
    "    </tr>\n",
    "    <tr>\n",
    "        <td></td>\n",
    "        <td>Main campus or branch</td>\n",
    "        <td>1 for main, 0 for branch</td>\n",
    "    </tr>\n",
    "    <tr>\n",
    "        <td></td>\n",
    "        <td>Type</td>\n",
    "        <td>Public, private for-profit, private non-profit</td>\n",
    "    </tr>\n",
    "    <tr>\n",
    "        <td></td>\n",
    "        <td>Revenue</td>\n",
    "        <td>Net tutition, instructional expenses, average faculty salary</td>\n",
    "    </tr>\n",
    "    <tr>\n",
    "        <td></td>\n",
    "        <td>Currently operating</td>\n",
    "        <td>1 for YES, 0 for NO</td>\n",
    "    </tr>\n",
    "    \n",
    "    <!-- Academics !-->\n",
    "    <tr>\n",
    "        <td>Academics</td>\n",
    "    </tr>\n",
    "    <tr>\n",
    "        <td></td>\n",
    "        <td>Programs offered</td>\n",
    "        <td>Field of study ids</td>\n",
    "    </tr>\n",
    "    \n",
    "    <!-- Admission !-->\n",
    "    <tr>\n",
    "        <td>Admission</td>\n",
    "    </tr>\n",
    "    <tr>\n",
    "        <td></td>\n",
    "        <td>Admission rate for <b>Undergraduates</b></td>\n",
    "        <td>Rates for each branch or all branches</td>\n",
    "    </tr>\n",
    "    <tr>\n",
    "        <td></td>\n",
    "        <td>SAT and ACT scores</b></td>\n",
    "        <td></td>\n",
    "    </tr>\n",
    "    \n",
    "    <!-- Costs !-->\n",
    "    <tr>\n",
    "        <td>Costs</td>\n",
    "    </tr>\n",
    "    <tr>\n",
    "        <td></td>\n",
    "        <td><b>LOTS</b></td>\n",
    "        <td>Look at page 6-7 of data documentation</td>\n",
    "    </tr>\n",
    "    \n",
    "    <!-- Student Body !-->\n",
    "    <tr>\n",
    "        <td>Student Body</td>\n",
    "    </tr>\n",
    "    <tr>\n",
    "        <td></td>\n",
    "        <td>Number of degree seekers</td>\n",
    "        <td></td>\n",
    "    </tr>\n",
    "    <tr>\n",
    "        <td></td>\n",
    "        <td>Race statistics</td>\n",
    "        <td>Self-reported on FAFSA</td>\n",
    "    </tr>\n",
    "    <tr>\n",
    "        <td></td>\n",
    "        <td>Undegrads by family income</td>\n",
    "        <td>Percentages broken into categories based on expected family contribution on FAFSA</td>\n",
    "    </tr>\n",
    "    <tr>\n",
    "        <td></td>\n",
    "        <td>Retention rate</td>\n",
    "        <td></td>\n",
    "    </tr>\n",
    "    <tr>\n",
    "        <td></td>\n",
    "        <td>Student body age</td>\n",
    "        <td>Percentage of students who are age 25-64</td>\n",
    "    </tr>\n",
    "    <tr>\n",
    "        <td></td>\n",
    "        <td>Parent education</td>\n",
    "        <td>Percentages of students with parents that have some level of education. Collected from FAFSA.</td>\n",
    "    </tr>\n",
    "    \n",
    "    <!-- Financial Aid !-->\n",
    "    <tr>\n",
    "        <td>Financial Aid</td>\n",
    "    </tr>\n",
    "    <tr>\n",
    "        <td></td>\n",
    "        <td>Cumulative median debt</td>\n",
    "        <td></td>\n",
    "    </tr>\n",
    "    <tr>\n",
    "        <td></td>\n",
    "        <td>Percent receiving Pell Grant</td>\n",
    "        <td>Grant from government that does not need to be repaid</td>\n",
    "    </tr>\n",
    "    <tr>\n",
    "        <td></td>\n",
    "        <td>Percent receiving federal loans</td>\n",
    "        <td></td>\n",
    "    </tr>\n",
    "    \n",
    "    <!-- Completion !-->\n",
    "    <tr>\n",
    "        <td>Completion</td>\n",
    "    </tr>\n",
    "    <tr>\n",
    "        <td></td>\n",
    "        <td>Completion rate</td>\n",
    "        <td>Percent of students graduating within 150% and 200% of the expected time to graduate</td>\n",
    "    </tr>\n",
    "    \n",
    "    <!-- Title IV Students !-->\n",
    "    <tr>\n",
    "        <td>Title IV Students</td>\n",
    "    </tr>\n",
    "    \n",
    "    <!-- Earnings !-->\n",
    "    <tr>\n",
    "        <td>Earnings</td>\n",
    "    </tr>\n",
    "    <tr>\n",
    "        <td></td>\n",
    "        <td>Mean and median income</td>\n",
    "        <td>Available 6 and 10 years after graduation. Data comes from W2 tax forms</td>\n",
    "    </tr>\n",
    "    <tr>\n",
    "        <td></td>\n",
    "        <td>Threshold earnings</td>\n",
    "        <td>Percent of students who are earning more than people age 25-34 with only a college degree. Measure of wether or not the degree was able to financially improve the students outcome had they not gone to college.</td>\n",
    "    </tr>\n",
    "    \n",
    "    <!-- Repayment !-->\n",
    "    <tr>\n",
    "        <td>Repayment</td>\n",
    "    </tr>\n",
    "</table>"
   ]
  },
  {
   "cell_type": "code",
   "execution_count": 167,
   "metadata": {
    "collapsed": false
   },
   "outputs": [],
   "source": [
    "# Get locations of the universities\n",
    "coordinates = execute(\"\"\"SELECT Latitude, Longitude \n",
    "                         FROM Scorecard\n",
    "                         WHERE Latitude IS NOT NULL\n",
    "                                AND Year=2013\n",
    "                                AND main='Main campus'\"\"\")"
   ]
  },
  {
   "cell_type": "code",
   "execution_count": 168,
   "metadata": {
    "collapsed": false
   },
   "outputs": [
    {
     "name": "stdout",
     "output_type": "stream",
     "text": [
      "Percent with location data (2013):  74.45%\n"
     ]
    },
    {
     "data": {
      "image/png": "[encoded data removed]",
      "text/plain": [
       "<matplotlib.figure.Figure at 0x117807350>"
      ]
     },
     "metadata": {},
     "output_type": "display_data"
    }
   ],
   "source": [
    "print \"Percent with location data (2013): {0: .2f}%\".format(((len(coordinates)*1.0) / rowCountByYear[14][1]) * 100)\n",
    "\n",
    "# Plot locations of institutions\n",
    "df = pd.DataFrame()\n",
    "def checkCordinates(x, y):\n",
    "    if x >= -128.19 and x <= -65 and y >= 24.19 and y <= 49.62:\n",
    "        return True\n",
    "    return False\n",
    "df['x'] = [row[1] for row in coordinates if checkCordinates(row[1], row[0])]\n",
    "df['y'] = [row[0] for row in coordinates if checkCordinates(row[1], row[0])]\n",
    "\n",
    "locations = sns.regplot('x', 'y',\n",
    "                        data=df,\n",
    "                        fit_reg=False)\n",
    "locations.set(title=\"Locations of Institutions\", xticks=[], yticks=[], xlabel=\"\", ylabel=\"\")\n",
    "sns.despine(left=True, bottom=True)"
   ]
  },
  {
   "cell_type": "code",
   "execution_count": 161,
   "metadata": {
    "collapsed": false
   },
   "outputs": [],
   "source": [
    "# Number of institutions that are main campuses by year\n",
    "mainCampuses = execute(\"\"\"SELECT Year, Count(id) mainCount\n",
    "                          FROM Scorecard\n",
    "                          WHERE main='Main campus'\n",
    "                          GROUP BY Year\"\"\")"
   ]
  },
  {
   "cell_type": "code",
   "execution_count": 166,
   "metadata": {
    "collapsed": false
   },
   "outputs": [
    {
     "name": "stdout",
     "output_type": "stream",
     "text": [
      "Number of total main campuses: 100918\n",
      "1996: 5869\n",
      "1997: 5727\n",
      "1998: 5513\n",
      "1999: 5509\n",
      "2000: 5504\n",
      "2001: 5523\n",
      "2002: 5498\n",
      "2003: 5477\n",
      "2004: 5492\n",
      "2005: 5565\n",
      "2006: 5565\n",
      "2007: 5542\n",
      "2008: 5556\n",
      "2009: 5622\n",
      "2010: 5729\n",
      "2011: 5757\n",
      "2012: 5761\n",
      "2013: 5709\n",
      "\n",
      "Main campus percentages\n",
      "1996:  86.39%\n",
      "1997:  85.49%\n",
      "1998:  85.08%\n",
      "1999:  85.20%\n",
      "2000:  84.96%\n",
      "2001:  83.44%\n",
      "2002:  83.99%\n",
      "2003:  83.17%\n",
      "2004:  82.46%\n",
      "2005:  81.55%\n",
      "2006:  81.26%\n",
      "2007:  80.44%\n",
      "2008:  79.66%\n",
      "2009:  78.64%\n",
      "2010:  77.27%\n",
      "2011:  75.01%\n",
      "2012:  73.93%\n",
      "2013:  73.15%\n"
     ]
    }
   ],
   "source": [
    "print \"Number of total main campuses: {0}\".format(sum([count[1] for count in mainCampuses]))\n",
    "printByYear(mainCampuses)\n",
    "\n",
    "print \"\\nMain campus percentages\"\n",
    "for i, count in enumerate(mainCampuses):\n",
    "    print \"{0}: {1: .2f}%\".format(count[0], ((count[1]*1.0)/rowCountByYear[i][1])*100)"
   ]
  },
  {
   "cell_type": "markdown",
   "metadata": {},
   "source": [
    "## Ideas so far\n",
    "\n",
    "I think a visualization with a picutre of all the universities in the US would be cool. Maybe as they add certain constaints the user oculd see the dots become highlighted and unlighted. Along with that there would be bar on the right with the most prominent universities in the categoires. Could also allow them to pin certain universities or institutions they were interested in.\n",
    "\n",
    "As for direction to explore, I kind of what to explore everything, or at least let the user explore everything."
   ]
  },
  {
   "cell_type": "code",
   "execution_count": null,
   "metadata": {
    "collapsed": true
   },
   "outputs": [],
   "source": []
  }
 ],
 "metadata": {
  "kernelspec": {
   "display_name": "Python 2",
   "language": "python",
   "name": "python2"
  },
  "language_info": {
   "codemirror_mode": {
    "name": "ipython",
    "version": 2
   },
   "file_extension": ".py",
   "mimetype": "text/x-python",
   "name": "python",
   "nbconvert_exporter": "python",
   "pygments_lexer": "ipython2",
   "version": "2.7.10"
  }
 },
 "nbformat": 4,
 "nbformat_minor": 0
}
